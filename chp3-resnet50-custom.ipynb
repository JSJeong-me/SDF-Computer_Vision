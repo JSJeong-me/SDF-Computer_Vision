{
 "cells": [
  {
   "cell_type": "markdown",
   "metadata": {
    "id": "iU73-rhTaMVI"
   },
   "source": [
    "# How to Train a Custom Resnet34 for Image Classification in fastai and PyTorch\n",
    "Can I computer tell the diffence between a daisy and a dandelion? The answer is yes\n",
    "\n",
    "\n",
    "This tutorial shows you how to train a state of the art image classification model with Resnet, in PyTorch, using the fastai library.\n",
    "\n",
    "### Accompanying Blog Post\n",
    "\n",
    "We recommend that you follow along in this notebook while reading the blog post on [how to train Resnet34 image classification model](https://blog.roboflow.ai/how-to-train-yolov5-on-a-custom-dataset/), concurrently.\n",
    "\n",
    "### Steps Covered in this Tutorial\n",
    "\n",
    "In this tutorial, we will walk through the steps required to train Resnet to recognize your custom classes. We use a [public flowers classification dataset](\n",
    "https://public.roboflow.com/classification/flowers_classification), which is open source and free to use. You can also use this notebook on your own data.\n",
    "\n",
    "To train our custom classifier we take the following steps:\n",
    "\n",
    "* Install fastai dependencies\n",
    "* Expand our training set via augmentations in Roboflow\n",
    "* Download custom classificatio data from Roboflow\n",
    "* Download pretrained Resnet Models\n",
    "* Run frozen Resent training in fastai\n",
    "* Find a favorable learning rate\n",
    "* Run unfrozen training\n",
    "* Inspect our model's evaluation metrics \n",
    "* Run Resnet inference on test images\n",
    "* Export saved Resnet weights for future inference\n",
    "\n",
    "\n",
    "\n",
    "### **About**\n",
    "\n",
    "[Roboflow] enables teams to deploy custom computer vision models quickly and accurately. Convert data from to annotation format, assess dataset health, preprocess, augment, and more. It's free for your first 1000 source images.\n"
   ]
  },
  {
   "cell_type": "markdown",
   "metadata": {
    "id": "kuydQ4JMnpqm"
   },
   "source": [
    "\n",
    "# Install fastai dependencies"
   ]
  },
  {
   "cell_type": "code",
   "execution_count": null,
   "metadata": {
    "id": "R8UumMi6Wp2J"
   },
   "outputs": [],
   "source": [
    "!pip install fastai"
   ]
  },
  {
   "cell_type": "code",
   "execution_count": null,
   "metadata": {
    "id": "egMX0t6bW2v6"
   },
   "outputs": [],
   "source": [
    "from fastai.vision import *"
   ]
  },
  {
   "cell_type": "markdown",
   "metadata": {
    "id": "GbLk0inLnwpJ"
   },
   "source": [
    "# Downlaod Custom Classification Data From Roboflow"
   ]
  },
  {
   "cell_type": "code",
   "execution_count": null,
   "metadata": {
    "id": "penyE0IyXeC6"
   },
   "outputs": [],
   "source": [
    "#dataset imported from Roboflow. You can sign up at roboflow.com and upload your image classification dataset\n",
    "#or use the public one - https://public.roboflow.com/classification/flowers_classification\n",
    "!curl -L \"[YOUR LINK HERE]\" > roboflow.zip; unzip roboflow.zip; rm roboflow.zip\n"
   ]
  },
  {
   "cell_type": "code",
   "execution_count": null,
   "metadata": {
    "id": "DyyE9YOkYx3Z"
   },
   "outputs": [],
   "source": [
    "#build fastai dataset loader\n",
    "np.random.seed(42)\n",
    "#fastai automatically factors the ./train and ./valid folders into seperate datasets\n",
    "#more details https://docs.fast.ai/vision.data.html#ImageDataLoaders.from_folder\n",
    "path = Path('/content/')\n",
    "data = ImageDataBunch.from_folder(path, size=224, num_workers=4).normalize(imagenet_stats)"
   ]
  },
  {
   "cell_type": "code",
   "execution_count": null,
   "metadata": {
    "colab": {
     "base_uri": "https://localhost:8080/",
     "height": 33
    },
    "executionInfo": {
     "elapsed": 785,
     "status": "ok",
     "timestamp": 1600205241391,
     "user": {
      "displayName": "Jacob Solawetz",
      "photoUrl": "https://lh3.googleusercontent.com/a-/AOh14GgP9c_IdnuogcxcPOmDdxs9Aa2FpYWUIc60wRu4=s64",
      "userId": "03542738104439285490"
     },
     "user_tz": 300
    },
    "id": "ce7sHGPOZCiA",
    "outputId": "f8a346cb-2354-4cde-9991-9780ccd31092"
   },
   "outputs": [],
   "source": [
    "#double check the data classes\n",
    "data.classes"
   ]
  },
  {
   "cell_type": "code",
   "execution_count": null,
   "metadata": {
    "id": "Rs5aqCT6ZjLv"
   },
   "outputs": [],
   "source": [
    "#take a peak at the batch to make sure things were loaded correctly\n",
    "data.show_batch(rows=3, figsize=(7, 8))\n"
   ]
  },
  {
   "cell_type": "markdown",
   "metadata": {
    "id": "0iVCZ49FowXD"
   },
   "source": [
    "# Set up fastai Resnet model"
   ]
  },
  {
   "cell_type": "code",
   "execution_count": null,
   "metadata": {
    "colab": {
     "base_uri": "https://localhost:8080/",
     "height": 113,
     "referenced_widgets": [
      "2781a45315ec426ba1e4a01c7b2d728a",
      "6b2c9f5bea7442019d6e38980b3c49b7",
      "0edc065a5bfd4529964c67d6f672dd2f",
      "3100ef77def64e349532c1508e215b6c",
      "b736d7bf341545e1b7b9342d01dd865b",
      "fb326ba2a82c4eabb707e5d166deda5a",
      "803cf068e7dd47ec9eeeee143b6e98fa",
      "32a5bef3ec6b4868a21ac458cd5f72c2"
     ]
    },
    "executionInfo": {
     "elapsed": 12297,
     "status": "ok",
     "timestamp": 1600205283231,
     "user": {
      "displayName": "Jacob Solawetz",
      "photoUrl": "https://lh3.googleusercontent.com/a-/AOh14GgP9c_IdnuogcxcPOmDdxs9Aa2FpYWUIc60wRu4=s64",
      "userId": "03542738104439285490"
     },
     "user_tz": 300
    },
    "id": "aqDLxhf3cb6-",
    "outputId": "e614329e-655f-4893-b9d8-bf2d113796a3"
   },
   "outputs": [],
   "source": [
    "from fastai.metrics import error_rate # 1 - accuracy\n",
    "learn = create_cnn(data, models.resnet34, metrics=error_rate)"
   ]
  },
  {
   "cell_type": "code",
   "execution_count": null,
   "metadata": {
    "id": "XFRjhrPFd8nW"
   },
   "outputs": [],
   "source": [
    "#print network layers\n",
    "learn"
   ]
  },
  {
   "cell_type": "markdown",
   "metadata": {
    "id": "9FEfKeufpA98"
   },
   "source": [
    "# Train Custom Resnet Image Classifier"
   ]
  },
  {
   "cell_type": "code",
   "execution_count": null,
   "metadata": {
    "id": "NUisfLuMuuKF"
   },
   "outputs": [],
   "source": [
    "from fastai.callbacks import *\n",
    "early_stop = EarlyStoppingCallback(learn, patience=20)\n",
    "save_best_model = SaveModelCallback(learn, name='best_resnet34')"
   ]
  },
  {
   "cell_type": "code",
   "execution_count": null,
   "metadata": {
    "colab": {
     "base_uri": "https://localhost:8080/",
     "height": 92
    },
    "executionInfo": {
     "elapsed": 5404,
     "status": "ok",
     "timestamp": 1599157686215,
     "user": {
      "displayName": "Jacob Solawetz",
      "photoUrl": "https://lh3.googleusercontent.com/a-/AOh14GgP9c_IdnuogcxcPOmDdxs9Aa2FpYWUIc60wRu4=s64",
      "userId": "03542738104439285490"
     },
     "user_tz": 300
    },
    "id": "QBC7GeNneAde",
    "outputId": "495f0b38-4614-45e6-9699-16e2232fc06e"
   },
   "outputs": [],
   "source": [
    "#frozen training step\n",
    "defaults.device = torch.device('cuda') # makes sure the gpu is used\n",
    "learn.fit_one_cycle(1, callbacks=[early_stop, save_best_model])"
   ]
  },
  {
   "cell_type": "code",
   "execution_count": null,
   "metadata": {
    "id": "noVte6DcV6a0"
   },
   "outputs": [],
   "source": [
    "#load best model from frozen training\n",
    "learn.load('best_resnet34')\n"
   ]
  },
  {
   "cell_type": "code",
   "execution_count": null,
   "metadata": {
    "id": "uX4ZsjuDeE_Q"
   },
   "outputs": [],
   "source": [
    "learn.unfreeze()"
   ]
  },
  {
   "cell_type": "code",
   "execution_count": null,
   "metadata": {
    "id": "U7bqlB4cY0H3"
   },
   "outputs": [],
   "source": [
    "def find_appropriate_lr(model:Learner, lr_diff:int = 15, loss_threshold:float = .05, adjust_value:float = 1, plot:bool = False) -> float:\n",
    "    #Run the Learning Rate Finder\n",
    "    model.lr_find()\n",
    "    \n",
    "    #Get loss values and their corresponding gradients, and get lr values\n",
    "    losses = np.array(model.recorder.losses)\n",
    "    min_loss_index = np.argmin(losses)\n",
    "    \n",
    "    \n",
    "    #loss_grad = np.gradient(losses)\n",
    "    lrs = model.recorder.lrs\n",
    "    \n",
    "    #return the learning rate that produces the minimum loss divide by 10   \n",
    "    return lrs[min_loss_index] / 10"
   ]
  },
  {
   "cell_type": "code",
   "execution_count": null,
   "metadata": {
    "id": "RrUI5qc-ecKy"
   },
   "outputs": [],
   "source": [
    "optimal_lr = find_appropriate_lr(learn)"
   ]
  },
  {
   "cell_type": "code",
   "execution_count": null,
   "metadata": {
    "colab": {
     "base_uri": "https://localhost:8080/",
     "height": 92
    },
    "executionInfo": {
     "elapsed": 6194,
     "status": "ok",
     "timestamp": 1599157776473,
     "user": {
      "displayName": "Jacob Solawetz",
      "photoUrl": "https://lh3.googleusercontent.com/a-/AOh14GgP9c_IdnuogcxcPOmDdxs9Aa2FpYWUIc60wRu4=s64",
      "userId": "03542738104439285490"
     },
     "user_tz": 300
    },
    "id": "HhCKF-AWeiGY",
    "outputId": "e0a86d8b-feee-4147-d049-1289b4d148a3"
   },
   "outputs": [],
   "source": [
    "learn.fit_one_cycle(1, max_lr=slice(optimal_lr/10, optimal_lr), callbacks=[early_stop, save_best_model])\n"
   ]
  },
  {
   "cell_type": "code",
   "execution_count": null,
   "metadata": {
    "id": "p3EXvjbMvCar"
   },
   "outputs": [],
   "source": [
    "learn.load('best_resnet34')\n"
   ]
  },
  {
   "cell_type": "code",
   "execution_count": null,
   "metadata": {
    "id": "d5wm11_9tytS"
   },
   "outputs": [],
   "source": []
  },
  {
   "cell_type": "markdown",
   "metadata": {
    "id": "2UvDkO0cpTVN"
   },
   "source": [
    "# Evaluate Classifier Performance"
   ]
  },
  {
   "cell_type": "code",
   "execution_count": null,
   "metadata": {
    "id": "BW2G0iuXjb1K"
   },
   "outputs": [],
   "source": [
    "interp = ClassificationInterpretation.from_learner(learn)\n",
    "interp.plot_confusion_matrix()\n"
   ]
  },
  {
   "cell_type": "code",
   "execution_count": null,
   "metadata": {
    "id": "LSRYrNIfjoOc"
   },
   "outputs": [],
   "source": [
    "interp.plot_top_losses(9, figsize=(15,15))\n"
   ]
  },
  {
   "cell_type": "code",
   "execution_count": null,
   "metadata": {
    "id": "5le0t_k6jrca"
   },
   "outputs": [],
   "source": [
    "#run inference on test images\n",
    "import glob\n",
    "from IPython.display import Image, display\n",
    "\n",
    "model = learn.model\n",
    "model = model.cuda()\n",
    "for imageName in glob.glob('/content/test/*/*.jpg'):\n",
    "    print(imageName)\n",
    "    img = open_image(imageName)\n",
    "    prediction = learn.predict(img)\n",
    "    #print(prediction)\n",
    "    print(prediction[0])\n",
    "    display(Image(filename=imageName))\n",
    "    print(\"\\n\")"
   ]
  },
  {
   "cell_type": "markdown",
   "metadata": {
    "id": "bdoYCSqupcon"
   },
   "source": [
    "# Save custom classification model for future use"
   ]
  },
  {
   "cell_type": "code",
   "execution_count": null,
   "metadata": {
    "colab": {
     "base_uri": "https://localhost:8080/",
     "height": 33
    },
    "executionInfo": {
     "elapsed": 498,
     "status": "ok",
     "timestamp": 1599157930239,
     "user": {
      "displayName": "Jacob Solawetz",
      "photoUrl": "https://lh3.googleusercontent.com/a-/AOh14GgP9c_IdnuogcxcPOmDdxs9Aa2FpYWUIc60wRu4=s64",
      "userId": "03542738104439285490"
     },
     "user_tz": 300
    },
    "id": "iMbXW-l7jZ0e",
    "outputId": "17e41b4b-b963-4a48-968b-9257685bc555"
   },
   "outputs": [],
   "source": [
    "#model is automatically saved with the \"save_best_model\" callback\n",
    "%ls models/"
   ]
  },
  {
   "cell_type": "code",
   "execution_count": null,
   "metadata": {
    "id": "zXlKfOeYZg9M"
   },
   "outputs": [],
   "source": [
    "from google.colab import files\n",
    "files.download('./models/best_resnet34.pth')"
   ]
  },
  {
   "cell_type": "code",
   "execution_count": null,
   "metadata": {
    "id": "miSJjgU6PZ5Z"
   },
   "outputs": [],
   "source": []
  }
 ],
 "metadata": {
  "accelerator": "GPU",
  "colab": {
   "collapsed_sections": [],
   "name": "resnet50-Image-Classifcation.ipynb",
   "provenance": [
    {
     "file_id": "1mVISoBYTDk3Q9D5VmviTkYD28WlFW-Jk",
     "timestamp": 1609301281801
    },
    {
     "file_id": "1Ze7IaDTh8ByaRRZ0rgUnO6g-IRUCfGex",
     "timestamp": 1599143923659
    }
   ],
   "toc_visible": true
  },
  "kernelspec": {
   "display_name": "Python 3",
   "language": "python",
   "name": "python3"
  },
  "language_info": {
   "codemirror_mode": {
    "name": "ipython",
    "version": 3
   },
   "file_extension": ".py",
   "mimetype": "text/x-python",
   "name": "python",
   "nbconvert_exporter": "python",
   "pygments_lexer": "ipython3",
   "version": "3.7.6"
  },
  "widgets": {
   "application/vnd.jupyter.widget-state+json": {
    "0edc065a5bfd4529964c67d6f672dd2f": {
     "model_module": "@jupyter-widgets/controls",
     "model_name": "FloatProgressModel",
     "state": {
      "_dom_classes": [],
      "_model_module": "@jupyter-widgets/controls",
      "_model_module_version": "1.5.0",
      "_model_name": "FloatProgressModel",
      "_view_count": null,
      "_view_module": "@jupyter-widgets/controls",
      "_view_module_version": "1.5.0",
      "_view_name": "ProgressView",
      "bar_style": "success",
      "description": "100%",
      "description_tooltip": null,
      "layout": "IPY_MODEL_fb326ba2a82c4eabb707e5d166deda5a",
      "max": 87306240,
      "min": 0,
      "orientation": "horizontal",
      "style": "IPY_MODEL_b736d7bf341545e1b7b9342d01dd865b",
      "value": 87306240
     }
    },
    "2781a45315ec426ba1e4a01c7b2d728a": {
     "model_module": "@jupyter-widgets/controls",
     "model_name": "HBoxModel",
     "state": {
      "_dom_classes": [],
      "_model_module": "@jupyter-widgets/controls",
      "_model_module_version": "1.5.0",
      "_model_name": "HBoxModel",
      "_view_count": null,
      "_view_module": "@jupyter-widgets/controls",
      "_view_module_version": "1.5.0",
      "_view_name": "HBoxView",
      "box_style": "",
      "children": [
       "IPY_MODEL_0edc065a5bfd4529964c67d6f672dd2f",
       "IPY_MODEL_3100ef77def64e349532c1508e215b6c"
      ],
      "layout": "IPY_MODEL_6b2c9f5bea7442019d6e38980b3c49b7"
     }
    },
    "3100ef77def64e349532c1508e215b6c": {
     "model_module": "@jupyter-widgets/controls",
     "model_name": "HTMLModel",
     "state": {
      "_dom_classes": [],
      "_model_module": "@jupyter-widgets/controls",
      "_model_module_version": "1.5.0",
      "_model_name": "HTMLModel",
      "_view_count": null,
      "_view_module": "@jupyter-widgets/controls",
      "_view_module_version": "1.5.0",
      "_view_name": "HTMLView",
      "description": "",
      "description_tooltip": null,
      "layout": "IPY_MODEL_32a5bef3ec6b4868a21ac458cd5f72c2",
      "placeholder": "​",
      "style": "IPY_MODEL_803cf068e7dd47ec9eeeee143b6e98fa",
      "value": " 83.3M/83.3M [00:29&lt;00:00, 2.96MB/s]"
     }
    },
    "32a5bef3ec6b4868a21ac458cd5f72c2": {
     "model_module": "@jupyter-widgets/base",
     "model_name": "LayoutModel",
     "state": {
      "_model_module": "@jupyter-widgets/base",
      "_model_module_version": "1.2.0",
      "_model_name": "LayoutModel",
      "_view_count": null,
      "_view_module": "@jupyter-widgets/base",
      "_view_module_version": "1.2.0",
      "_view_name": "LayoutView",
      "align_content": null,
      "align_items": null,
      "align_self": null,
      "border": null,
      "bottom": null,
      "display": null,
      "flex": null,
      "flex_flow": null,
      "grid_area": null,
      "grid_auto_columns": null,
      "grid_auto_flow": null,
      "grid_auto_rows": null,
      "grid_column": null,
      "grid_gap": null,
      "grid_row": null,
      "grid_template_areas": null,
      "grid_template_columns": null,
      "grid_template_rows": null,
      "height": null,
      "justify_content": null,
      "justify_items": null,
      "left": null,
      "margin": null,
      "max_height": null,
      "max_width": null,
      "min_height": null,
      "min_width": null,
      "object_fit": null,
      "object_position": null,
      "order": null,
      "overflow": null,
      "overflow_x": null,
      "overflow_y": null,
      "padding": null,
      "right": null,
      "top": null,
      "visibility": null,
      "width": null
     }
    },
    "6b2c9f5bea7442019d6e38980b3c49b7": {
     "model_module": "@jupyter-widgets/base",
     "model_name": "LayoutModel",
     "state": {
      "_model_module": "@jupyter-widgets/base",
      "_model_module_version": "1.2.0",
      "_model_name": "LayoutModel",
      "_view_count": null,
      "_view_module": "@jupyter-widgets/base",
      "_view_module_version": "1.2.0",
      "_view_name": "LayoutView",
      "align_content": null,
      "align_items": null,
      "align_self": null,
      "border": null,
      "bottom": null,
      "display": null,
      "flex": null,
      "flex_flow": null,
      "grid_area": null,
      "grid_auto_columns": null,
      "grid_auto_flow": null,
      "grid_auto_rows": null,
      "grid_column": null,
      "grid_gap": null,
      "grid_row": null,
      "grid_template_areas": null,
      "grid_template_columns": null,
      "grid_template_rows": null,
      "height": null,
      "justify_content": null,
      "justify_items": null,
      "left": null,
      "margin": null,
      "max_height": null,
      "max_width": null,
      "min_height": null,
      "min_width": null,
      "object_fit": null,
      "object_position": null,
      "order": null,
      "overflow": null,
      "overflow_x": null,
      "overflow_y": null,
      "padding": null,
      "right": null,
      "top": null,
      "visibility": null,
      "width": null
     }
    },
    "803cf068e7dd47ec9eeeee143b6e98fa": {
     "model_module": "@jupyter-widgets/controls",
     "model_name": "DescriptionStyleModel",
     "state": {
      "_model_module": "@jupyter-widgets/controls",
      "_model_module_version": "1.5.0",
      "_model_name": "DescriptionStyleModel",
      "_view_count": null,
      "_view_module": "@jupyter-widgets/base",
      "_view_module_version": "1.2.0",
      "_view_name": "StyleView",
      "description_width": ""
     }
    },
    "b736d7bf341545e1b7b9342d01dd865b": {
     "model_module": "@jupyter-widgets/controls",
     "model_name": "ProgressStyleModel",
     "state": {
      "_model_module": "@jupyter-widgets/controls",
      "_model_module_version": "1.5.0",
      "_model_name": "ProgressStyleModel",
      "_view_count": null,
      "_view_module": "@jupyter-widgets/base",
      "_view_module_version": "1.2.0",
      "_view_name": "StyleView",
      "bar_color": null,
      "description_width": "initial"
     }
    },
    "fb326ba2a82c4eabb707e5d166deda5a": {
     "model_module": "@jupyter-widgets/base",
     "model_name": "LayoutModel",
     "state": {
      "_model_module": "@jupyter-widgets/base",
      "_model_module_version": "1.2.0",
      "_model_name": "LayoutModel",
      "_view_count": null,
      "_view_module": "@jupyter-widgets/base",
      "_view_module_version": "1.2.0",
      "_view_name": "LayoutView",
      "align_content": null,
      "align_items": null,
      "align_self": null,
      "border": null,
      "bottom": null,
      "display": null,
      "flex": null,
      "flex_flow": null,
      "grid_area": null,
      "grid_auto_columns": null,
      "grid_auto_flow": null,
      "grid_auto_rows": null,
      "grid_column": null,
      "grid_gap": null,
      "grid_row": null,
      "grid_template_areas": null,
      "grid_template_columns": null,
      "grid_template_rows": null,
      "height": null,
      "justify_content": null,
      "justify_items": null,
      "left": null,
      "margin": null,
      "max_height": null,
      "max_width": null,
      "min_height": null,
      "min_width": null,
      "object_fit": null,
      "object_position": null,
      "order": null,
      "overflow": null,
      "overflow_x": null,
      "overflow_y": null,
      "padding": null,
      "right": null,
      "top": null,
      "visibility": null,
      "width": null
     }
    }
   }
  }
 },
 "nbformat": 4,
 "nbformat_minor": 4
}
