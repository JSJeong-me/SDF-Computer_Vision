{
 "cells": [
  {
   "cell_type": "code",
   "execution_count": null,
   "id": "33084457-4cad-421d-9b89-f3a4d42cca34",
   "metadata": {},
   "outputs": [],
   "source": []
  },
  {
   "cell_type": "code",
   "execution_count": null,
   "id": "27834134-2a4d-4b75-9656-60933f03de9a",
   "metadata": {},
   "outputs": [],
   "source": [
    "### Frame sampling"
   ]
  },
  {
   "cell_type": "code",
   "execution_count": 1,
   "id": "c58582f2-1c96-43c8-9362-d9a86e1976e4",
   "metadata": {},
   "outputs": [
    {
     "name": "stdout",
     "output_type": "stream",
     "text": [
      "C:\\Users\\user\\Documents\\SDF\\SDF-CV\n"
     ]
    }
   ],
   "source": [
    "!cd"
   ]
  },
  {
   "cell_type": "code",
   "execution_count": 2,
   "id": "3f4ee826-24e0-4031-b15d-ff4ccebb90dd",
   "metadata": {},
   "outputs": [
    {
     "name": "stdout",
     "output_type": "stream",
     "text": [
      "Frame width:  3072\n",
      "Frame height: 2048\n",
      "Frame count:  17576\n",
      "FPS:          020\n"
     ]
    }
   ],
   "source": [
    "import cv2\n",
    "\n",
    "cap = cv2.VideoCapture('.\\\\images\\\\cctv31.mp4')\n",
    "\n",
    "# Image resolution, image width & height frame cpunts & frame rates \n",
    "print('Frame width:  {0:03d}'.format(round(cap.get(cv2.CAP_PROP_FRAME_WIDTH))))\n",
    "print('Frame height: {0:03d}'.format(round(cap.get(cv2.CAP_PROP_FRAME_HEIGHT))))\n",
    "print('Frame count:  {0:03d}'.format(round(cap.get(cv2.CAP_PROP_FRAME_COUNT))))\n",
    "\n",
    "fps = round(cap.get(cv2.CAP_PROP_FPS))\n",
    "print('FPS:          {0:03d}'.format(fps))"
   ]
  },
  {
   "cell_type": "code",
   "execution_count": null,
   "id": "2891ca4d-912e-429e-b088-b463072d2168",
   "metadata": {},
   "outputs": [],
   "source": [
    "# Sampling from video"
   ]
  },
  {
   "cell_type": "code",
   "execution_count": 3,
   "id": "ff8b1897-19c9-40e0-a5f6-7af5e3191870",
   "metadata": {},
   "outputs": [],
   "source": [
    "import cv2\n",
    "import time\n",
    "\n",
    "#video = cv2.VideoCapture(0)\n",
    "video = cv2.VideoCapture('.\\\\images\\\\cctv31.mp4')\n",
    "\n",
    "# For outpu image save to create cv2.VideoWriter\n",
    "#w = round(cap.get(cv2.CAP_PROP_FRAME_WIDTH))\n",
    "#h = round(cap.get(cv2.CAP_PROP_FRAME_HEIGHT))\n",
    "#fps = cap.get(cv2.CAP_PROP_FPS)\n",
    "\n",
    "#fourcc = cv2.VideoWriter_fourcc(*'DIVX')  # *'DIVX' == 'D','I','V','X'\n",
    "#out = cv2.VideoWriter('.\\\\images\\\\output0.avi', fourcc, fps, (w, h))\n",
    "\n",
    "\n",
    "prev_time = 0\n",
    "FPS = 1 # ! frame per a second\n",
    "\n",
    "while True:\n",
    "\n",
    "    ret, frame = video.read()\n",
    "\n",
    "    if not ret:\n",
    "        break\n",
    "    \n",
    "    frame = cv2.resize(frame, (0, 0), fx=0.25, fy=0.25)  # Resize\n",
    "    \n",
    "    current_time = time.time() - prev_time\n",
    "\n",
    "    if (ret is True) and (current_time > 1./ FPS):\n",
    "        prev_time = time.time()\n",
    "        \n",
    "        cv2.imshow('VideoCapture', frame)\n",
    "        cv2.imwrite('beam{0}.jpg'.format(current_time), frame)\n",
    "\n",
    "        if cv2.waitKey(1) > 0 :\n",
    "            break\n",
    "\n",
    "video.release()\n",
    "cv2.destroyAllWindows()"
   ]
  },
  {
   "cell_type": "code",
   "execution_count": null,
   "id": "307a3533-a6ff-43fd-86c3-7dc1a4408ff6",
   "metadata": {},
   "outputs": [],
   "source": []
  }
 ],
 "metadata": {
  "kernelspec": {
   "display_name": "Python SDF",
   "language": "python",
   "name": "sdf"
  },
  "language_info": {
   "codemirror_mode": {
    "name": "ipython",
    "version": 3
   },
   "file_extension": ".py",
   "mimetype": "text/x-python",
   "name": "python",
   "nbconvert_exporter": "python",
   "pygments_lexer": "ipython3",
   "version": "3.8.3"
  }
 },
 "nbformat": 4,
 "nbformat_minor": 5
}
